{
 "cells": [
  {
   "cell_type": "code",
   "execution_count": 1,
   "id": "ddef8410-edde-4c5c-84f7-c14140ec064a",
   "metadata": {},
   "outputs": [],
   "source": [
    "# !pip install numpy    "
   ]
  },
  {
   "cell_type": "code",
   "execution_count": 2,
   "id": "180dde46-25cd-4ae6-994a-bff9f9d83b14",
   "metadata": {},
   "outputs": [],
   "source": [
    "# !pip install opencv-python"
   ]
  },
  {
   "cell_type": "code",
   "execution_count": 3,
   "id": "62e03664-dbe1-417f-9b13-91792edd909c",
   "metadata": {},
   "outputs": [],
   "source": [
    "# !pip install cmake"
   ]
  },
  {
   "cell_type": "code",
   "execution_count": 4,
   "id": "ad6bf0b2-8451-464c-b790-185f69599b7a",
   "metadata": {},
   "outputs": [],
   "source": [
    "# !python -m pip install dlib-19.24.1-cp311-cp311-win_amd64.whl"
   ]
  },
  {
   "cell_type": "code",
   "execution_count": 5,
   "id": "df78789f-377a-4425-b207-b467a4568281",
   "metadata": {},
   "outputs": [],
   "source": [
    "# !pip install dlib"
   ]
  },
  {
   "cell_type": "code",
   "execution_count": 6,
   "id": "fbc14382-d701-4b02-bb38-7f4b421fb7a3",
   "metadata": {},
   "outputs": [],
   "source": [
    "# !pip install pyttsx3"
   ]
  },
  {
   "cell_type": "code",
   "execution_count": 7,
   "id": "2a38e1b4-b300-4fbb-be98-0e0b27832a30",
   "metadata": {},
   "outputs": [],
   "source": [
    "# !pip install scipy"
   ]
  },
  {
   "cell_type": "code",
   "execution_count": 8,
   "id": "efe349ac-8a8b-40d9-90fc-1074d8601d1e",
   "metadata": {},
   "outputs": [],
   "source": [
    "import cv2\n",
    "import dlib\n",
    "import pyttsx3\n",
    "from scipy.spatial import distance"
   ]
  },
  {
   "cell_type": "code",
   "execution_count": 24,
   "id": "6e14892e-0e98-4d42-9fd2-6d63e37cbffe",
   "metadata": {},
   "outputs": [],
   "source": [
    "# Initialize the text-to-speech engine\n",
    "engine = pyttsx3.init()\n",
    "\n",
    "# Attempt to open the default camera\n",
    "cap = cv2.VideoCapture(0)\n",
    "if not cap.isOpened():\n",
    "    print(\"Error: Could not open video.\")\n",
    "    exit()\n",
    "\n",
    "# Load the dlib face detector and the 68-point landmark predictor\n",
    "face_detector = dlib.get_frontal_face_detector()\n",
    "dlib_facelandmark = dlib.shape_predictor(\"shape_predictor_68_face_landmarks.dat\")\n",
    "\n",
    "# Function to calculate the Eye Aspect Ratio (EAR)\n",
    "def Detect_Eye(eye):\n",
    "    # Calculate the vertical distances between points\n",
    "    poi_A = distance.euclidean(eye[1], eye[5])\n",
    "    poi_B = distance.euclidean(eye[2], eye[4])\n",
    "    # Calculate the horizontal distance between points\n",
    "    poi_C = distance.euclidean(eye[0], eye[3])\n",
    "    # Compute the EAR\n",
    "    aspect_ratio_Eye = (poi_A + poi_B) / (2 * poi_C)\n",
    "    return aspect_ratio_Eye\n",
    "\n",
    "# Continuously capture frames from the camera\n",
    "while True:\n",
    "    ret, frame = cap.read()\n",
    "    if not ret:\n",
    "        print(\"Failed to capture frame. Exiting...\")\n",
    "        break\n",
    "\n",
    "    # Convert the frame to grayscale for processing\n",
    "    gray_scale = cv2.cvtColor(frame, cv2.COLOR_BGR2GRAY)\n",
    "\n",
    "    # Detect faces in the frame\n",
    "    faces = face_detector(gray_scale)\n",
    "\n",
    "    # Iterate over each detected face\n",
    "    for face in faces:\n",
    "        # Get the facial landmarks for the detected face\n",
    "        face_landmarks = dlib_facelandmark(gray_scale, face)\n",
    "\n",
    "        leftEye = []  # Coordinates for the left eye\n",
    "        rightEye = []  # Coordinates for the right eye\n",
    "\n",
    "        # Extract right eye landmarks and draw lines\n",
    "        for n in range(42, 48):\n",
    "            x = face_landmarks.part(n).x\n",
    "            y = face_landmarks.part(n).y\n",
    "            rightEye.append((x, y))\n",
    "            next_point = n + 1 if n != 47 else 42\n",
    "            x2 = face_landmarks.part(next_point).x\n",
    "            y2 = face_landmarks.part(next_point).y\n",
    "            cv2.line(frame, (x, y), (x2, y2), (0, 255, 0), 1)\n",
    "\n",
    "        # Extract left eye landmarks and draw lines\n",
    "        for n in range(36, 42):\n",
    "            x = face_landmarks.part(n).x\n",
    "            y = face_landmarks.part(n).y\n",
    "            leftEye.append((x, y))\n",
    "            next_point = n + 1 if n != 41 else 36\n",
    "            x2 = face_landmarks.part(next_point).x\n",
    "            y2 = face_landmarks.part(next_point).y\n",
    "            cv2.line(frame, (x, y), (x2, y2), (255, 255, 0), 1)\n",
    "\n",
    "        # Calculate the average Eye Aspect Ratio (EAR)\n",
    "        right_Eye = Detect_Eye(rightEye)\n",
    "        left_Eye = Detect_Eye(leftEye)\n",
    "        Eye_Rat = round((left_Eye + right_Eye) / 2, 2)\n",
    "\n",
    "        # Check if EAR indicates drowsiness\n",
    "        if Eye_Rat < 0.15:\n",
    "            cv2.putText(frame, \"DROWSINESS DETECTED\", (50, 100), cv2.FONT_HERSHEY_PLAIN, 2, (21, 56, 210), 3)\n",
    "            cv2.putText(frame, \"Alert!!!! WAKE UP DUDE\", (50, 450), cv2.FONT_HERSHEY_PLAIN, 2, (21, 56, 212), 3)\n",
    "            engine.say(\"Alert!!!! WAKE UP\")\n",
    "            engine.runAndWait()\n",
    "\n",
    "    # Display the frame with annotations\n",
    "    cv2.imshow(\"Drowsiness Detector\", frame)\n",
    "\n",
    "    # Exit on pressing 'q'\n",
    "    key = cv2.waitKey(1)\n",
    "    if key == ord('q'):\n",
    "        break\n",
    "\n",
    "# Release the camera and close all OpenCV windows\n",
    "cap.release()\n",
    "cv2.destroyAllWindows()"
   ]
  },
  {
   "cell_type": "code",
   "execution_count": null,
   "id": "b897a01c-a996-4d3d-954d-b38cc723eee3",
   "metadata": {},
   "outputs": [],
   "source": []
  }
 ],
 "metadata": {
  "kernelspec": {
   "display_name": "Python 3 (ipykernel)",
   "language": "python",
   "name": "python3"
  },
  "language_info": {
   "codemirror_mode": {
    "name": "ipython",
    "version": 3
   },
   "file_extension": ".py",
   "mimetype": "text/x-python",
   "name": "python",
   "nbconvert_exporter": "python",
   "pygments_lexer": "ipython3",
   "version": "3.11.7"
  }
 },
 "nbformat": 4,
 "nbformat_minor": 5
}
